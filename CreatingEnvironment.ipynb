{
 "cells": [
  {
   "cell_type": "markdown",
   "metadata": {},
   "source": [
    "To run the code you can use the provided conda environment. To clone the repo and create the environment use:\n",
    "```\n",
    "git clone git@github.com:dtadych/\n",
    "cd Az-Well-GRACE-Spatiotemp-Analysis\n",
    "conda env create -f azdroughtanalysis.yml\n",
    "```\n",
    "Once you have the environment set up you can activate it by running:\n",
    "\n",
    "```\n",
    "conda activate azdroughtanalysis\n",
    "```\n",
    "If you have trouble installing the .yml file, you can always install packages through conda-forge or pip install manually.  It is reccomended to use conda-forge when possible.\n",
    "```\n",
    "conda create --name azgwspatialanalysis python=3.8\n",
    "conda activate azgwspatialanalysis\n",
    "conda install -c conda-forge <package>\n",
    "\n",
    "Packages to install include\n",
    "- pandas\n",
    "- numpy\n",
    "- geopandas\n",
    "- seaborn\n",
    "- scipy\n",
    "- pymannkendall"
   ]
  },
  {
   "cell_type": "code",
   "execution_count": null,
   "metadata": {},
   "outputs": [],
   "source": []
  }
 ],
 "metadata": {
  "language_info": {
   "name": "python"
  },
  "orig_nbformat": 4
 },
 "nbformat": 4,
 "nbformat_minor": 2
}
